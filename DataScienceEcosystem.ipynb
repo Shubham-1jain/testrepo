{
 "cells": [
  {
   "cell_type": "markdown",
   "id": "46003623-2e94-49b0-a3be-c52b9fbf60cb",
   "metadata": {},
   "source": [
    "# Data Science Tools and Ecosystem"
   ]
  },
  {
   "cell_type": "markdown",
   "id": "78a196be-c870-4863-b4ed-d6c4f19c6385",
   "metadata": {},
   "source": [
    "### In this notebook, Data Science Tools and Ecosystem are summarized."
   ]
  },
  {
   "cell_type": "markdown",
   "id": "c40a2660-e00d-48ef-8c41-85e52bf4f92f",
   "metadata": {},
   "source": [
    "**Objectives:**\n",
    "\n",
    "- List popular language for Data Science\n",
    "- List commonly used libraries by Data Scientists\n",
    "- Few examples for arithmetic expressions"
   ]
  },
  {
   "cell_type": "markdown",
   "id": "8985814b-32bd-4338-97f6-bd9edbe7f27f",
   "metadata": {},
   "source": [
    "Some of the popular languages that Data Scientists use are:\n",
    "\n",
    "1. Python\n",
    "2. R\n",
    "3. Julia\n",
    "4. SAS"
   ]
  },
  {
   "cell_type": "markdown",
   "id": "f022f04b-66b0-4a7f-98eb-f4825b2e0a2a",
   "metadata": {},
   "source": [
    "Some of the commonly used libraries by Data Scientists include-\n",
    "\n",
    "1. numpy\n",
    "2. pandas\n",
    "3. scikit\n",
    "4. dplyr"
   ]
  },
  {
   "cell_type": "markdown",
   "id": "eb56492a-7006-4a9d-9fbd-bd7fc6881868",
   "metadata": {},
   "source": [
    "| Data Science Tool |\n",
    "| ----------------- |\n",
    "| Jupyter Notebook  |\n",
    "| RStudio           |\n",
    "| Pycharm |"
   ]
  },
  {
   "cell_type": "markdown",
   "id": "82ef7a1d-2e83-4430-8734-689d7416eaa2",
   "metadata": {},
   "source": [
    "### Below are a few examples of evaluating arithmetic expressions in Python"
   ]
  },
  {
   "cell_type": "code",
   "execution_count": 1,
   "id": "a272f3f2-eae9-47e3-b28b-8923f4b1c21e",
   "metadata": {
    "tags": []
   },
   "outputs": [
    {
     "data": {
      "text/plain": [
       "17"
      ]
     },
     "execution_count": 1,
     "metadata": {},
     "output_type": "execute_result"
    }
   ],
   "source": [
    "#  This a simple arithmetic expression to mutiply then add integers\n",
    "(3*4)+5"
   ]
  },
  {
   "cell_type": "code",
   "execution_count": 2,
   "id": "8fd00818-cda9-4597-8b67-5dc9951ee074",
   "metadata": {
    "tags": []
   },
   "outputs": [
    {
     "data": {
      "text/plain": [
       "3.3333333333333335"
      ]
     },
     "execution_count": 2,
     "metadata": {},
     "output_type": "execute_result"
    }
   ],
   "source": [
    "# This will convert 200 minutes to hours by diving by 60\n",
    "minutes = 200\n",
    "hours = minutes /60\n",
    "hours\n"
   ]
  },
  {
   "cell_type": "markdown",
   "id": "3ff5f2b7-ba42-481a-96d5-e7a065ff68a5",
   "metadata": {},
   "source": [
    "## Author\n",
    "Shubham Jain"
   ]
  },
  {
   "cell_type": "code",
   "execution_count": null,
   "id": "25ec91ea-3f6a-4e9e-897b-e83c2f3f97f9",
   "metadata": {},
   "outputs": [],
   "source": []
  }
 ],
 "metadata": {
  "kernelspec": {
   "display_name": "Python",
   "language": "python",
   "name": "conda-env-python-py"
  },
  "language_info": {
   "codemirror_mode": {
    "name": "ipython",
    "version": 3
   },
   "file_extension": ".py",
   "mimetype": "text/x-python",
   "name": "python",
   "nbconvert_exporter": "python",
   "pygments_lexer": "ipython3",
   "version": "3.7.12"
  }
 },
 "nbformat": 4,
 "nbformat_minor": 5
}
